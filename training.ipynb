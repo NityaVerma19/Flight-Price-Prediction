{
 "cells": [
  {
   "cell_type": "markdown",
   "id": "97e69952",
   "metadata": {},
   "source": [
    "#### Importing Libraries"
   ]
  },
  {
   "cell_type": "code",
   "execution_count": 19,
   "id": "a1ee89e5",
   "metadata": {},
   "outputs": [],
   "source": [
    "import pandas as pd\n",
    "import sklearn \n",
    "from sklearn.impute import SimpleImputer\n",
    "from sklearn.preprocessing import StandardScaler, OneHotEncoder\n",
    "from sklearn.pipeline import Pipeline\n",
    "from sklearn.compose import ColumnTransformer\n",
    "from feature_engine.datetime import Date\n",
    "import joblib\n",
    "import matplotlib.pyplot as plt"
   ]
  },
  {
   "cell_type": "markdown",
   "id": "de4d436f",
   "metadata": {},
   "source": [
    "#### Display Settings"
   ]
  },
  {
   "cell_type": "code",
   "execution_count": 4,
   "id": "ee81e635",
   "metadata": {},
   "outputs": [],
   "source": [
    "pd.set_option(\"display.max_columns\", None) #display all columns"
   ]
  },
  {
   "cell_type": "code",
   "execution_count": 6,
   "id": "b757c77c",
   "metadata": {},
   "outputs": [],
   "source": [
    "sklearn.set_config(transform_output = \"pandas\") #the output of transformers will be in a dataframe and not a numpy array"
   ]
  },
  {
   "cell_type": "markdown",
   "id": "176e1bc6",
   "metadata": {},
   "source": [
    "#### Import Data\n",
    "\n",
    "The following datasets are the cleaned versions of original datasets"
   ]
  },
  {
   "cell_type": "code",
   "execution_count": 8,
   "id": "6ddc3b04",
   "metadata": {},
   "outputs": [],
   "source": [
    "train = pd.read_csv(\"https://raw.githubusercontent.com/MisbahullahSheriff/sagemaker-flight-prices-prediction/master/data/train.csv\")\n",
    "test = pd.read_csv(\"https://raw.githubusercontent.com/MisbahullahSheriff/sagemaker-flight-prices-prediction/master/data/test.csv\")\n",
    "val = pd.read_csv(\"https://raw.githubusercontent.com/MisbahullahSheriff/sagemaker-flight-prices-prediction/master/data/val.csv\")"
   ]
  },
  {
   "cell_type": "code",
   "execution_count": 9,
   "id": "7ebff4fa",
   "metadata": {},
   "outputs": [
    {
     "data": {
      "text/html": [
       "<div>\n",
       "<style scoped>\n",
       "    .dataframe tbody tr th:only-of-type {\n",
       "        vertical-align: middle;\n",
       "    }\n",
       "\n",
       "    .dataframe tbody tr th {\n",
       "        vertical-align: top;\n",
       "    }\n",
       "\n",
       "    .dataframe thead th {\n",
       "        text-align: right;\n",
       "    }\n",
       "</style>\n",
       "<table border=\"1\" class=\"dataframe\">\n",
       "  <thead>\n",
       "    <tr style=\"text-align: right;\">\n",
       "      <th></th>\n",
       "      <th>airline</th>\n",
       "      <th>date_of_journey</th>\n",
       "      <th>source</th>\n",
       "      <th>destination</th>\n",
       "      <th>dep_time</th>\n",
       "      <th>arrival_time</th>\n",
       "      <th>duration</th>\n",
       "      <th>total_stops</th>\n",
       "      <th>additional_info</th>\n",
       "      <th>price</th>\n",
       "    </tr>\n",
       "  </thead>\n",
       "  <tbody>\n",
       "    <tr>\n",
       "      <th>0</th>\n",
       "      <td>Jet Airways</td>\n",
       "      <td>2019-06-21</td>\n",
       "      <td>Mumbai</td>\n",
       "      <td>Hyderabad</td>\n",
       "      <td>10:20:00</td>\n",
       "      <td>11:50:00</td>\n",
       "      <td>90</td>\n",
       "      <td>0.0</td>\n",
       "      <td>In-flight meal not included</td>\n",
       "      <td>4995</td>\n",
       "    </tr>\n",
       "    <tr>\n",
       "      <th>1</th>\n",
       "      <td>Air India</td>\n",
       "      <td>2019-05-18</td>\n",
       "      <td>Delhi</td>\n",
       "      <td>Cochin</td>\n",
       "      <td>09:00:00</td>\n",
       "      <td>07:40:00</td>\n",
       "      <td>1360</td>\n",
       "      <td>1.0</td>\n",
       "      <td>No Info</td>\n",
       "      <td>8372</td>\n",
       "    </tr>\n",
       "    <tr>\n",
       "      <th>2</th>\n",
       "      <td>Air India</td>\n",
       "      <td>2019-06-12</td>\n",
       "      <td>Kolkata</td>\n",
       "      <td>Banglore</td>\n",
       "      <td>09:10:00</td>\n",
       "      <td>11:05:00</td>\n",
       "      <td>1555</td>\n",
       "      <td>2.0</td>\n",
       "      <td>No Info</td>\n",
       "      <td>6117</td>\n",
       "    </tr>\n",
       "    <tr>\n",
       "      <th>3</th>\n",
       "      <td>Vistara</td>\n",
       "      <td>2019-04-01</td>\n",
       "      <td>Kolkata</td>\n",
       "      <td>Banglore</td>\n",
       "      <td>20:20:00</td>\n",
       "      <td>22:55:00</td>\n",
       "      <td>1595</td>\n",
       "      <td>1.0</td>\n",
       "      <td>No Info</td>\n",
       "      <td>7770</td>\n",
       "    </tr>\n",
       "    <tr>\n",
       "      <th>4</th>\n",
       "      <td>Vistara</td>\n",
       "      <td>2019-06-06</td>\n",
       "      <td>Kolkata</td>\n",
       "      <td>Banglore</td>\n",
       "      <td>17:00:00</td>\n",
       "      <td>10:45:00</td>\n",
       "      <td>1065</td>\n",
       "      <td>1.0</td>\n",
       "      <td>No Info</td>\n",
       "      <td>9187</td>\n",
       "    </tr>\n",
       "  </tbody>\n",
       "</table>\n",
       "</div>"
      ],
      "text/plain": [
       "       airline date_of_journey   source destination  dep_time arrival_time  \\\n",
       "0  Jet Airways      2019-06-21   Mumbai   Hyderabad  10:20:00     11:50:00   \n",
       "1    Air India      2019-05-18    Delhi      Cochin  09:00:00     07:40:00   \n",
       "2    Air India      2019-06-12  Kolkata    Banglore  09:10:00     11:05:00   \n",
       "3      Vistara      2019-04-01  Kolkata    Banglore  20:20:00     22:55:00   \n",
       "4      Vistara      2019-06-06  Kolkata    Banglore  17:00:00     10:45:00   \n",
       "\n",
       "   duration  total_stops              additional_info  price  \n",
       "0        90          0.0  In-flight meal not included   4995  \n",
       "1      1360          1.0                      No Info   8372  \n",
       "2      1555          2.0                      No Info   6117  \n",
       "3      1595          1.0                      No Info   7770  \n",
       "4      1065          1.0                      No Info   9187  "
      ]
     },
     "execution_count": 9,
     "metadata": {},
     "output_type": "execute_result"
    }
   ],
   "source": [
    "train.head()"
   ]
  },
  {
   "cell_type": "markdown",
   "id": "6587cf0b",
   "metadata": {},
   "source": [
    "#### Split data"
   ]
  },
  {
   "cell_type": "code",
   "execution_count": 10,
   "id": "f262e7cc",
   "metadata": {},
   "outputs": [],
   "source": [
    "def split_data(df):\n",
    "    X = df.drop(columns = \"price\")\n",
    "    y = df.price.copy()\n",
    "    return(X,y)"
   ]
  },
  {
   "cell_type": "code",
   "execution_count": 11,
   "id": "b99b66c6",
   "metadata": {},
   "outputs": [],
   "source": [
    "#training dataset\n",
    "X_train, y_train = split_data(train)"
   ]
  },
  {
   "cell_type": "code",
   "execution_count": 12,
   "id": "986035c0",
   "metadata": {},
   "outputs": [],
   "source": [
    "#test data\n",
    "X_test, y_test = split_data(test)"
   ]
  },
  {
   "cell_type": "code",
   "execution_count": 13,
   "id": "c5761c14",
   "metadata": {},
   "outputs": [],
   "source": [
    "#validation set\n",
    "X_val, y_val = split_data(val)"
   ]
  },
  {
   "cell_type": "markdown",
   "id": "acae5202",
   "metadata": {},
   "source": [
    "#### Meta-info"
   ]
  },
  {
   "cell_type": "code",
   "execution_count": 14,
   "id": "f4c9c27c",
   "metadata": {},
   "outputs": [
    {
     "name": "stdout",
     "output_type": "stream",
     "text": [
      "<class 'pandas.core.frame.DataFrame'>\n",
      "RangeIndex: 640 entries, 0 to 639\n",
      "Data columns (total 9 columns):\n",
      " #   Column           Non-Null Count  Dtype  \n",
      "---  ------           --------------  -----  \n",
      " 0   airline          640 non-null    object \n",
      " 1   date_of_journey  640 non-null    object \n",
      " 2   source           640 non-null    object \n",
      " 3   destination      640 non-null    object \n",
      " 4   dep_time         640 non-null    object \n",
      " 5   arrival_time     640 non-null    object \n",
      " 6   duration         640 non-null    int64  \n",
      " 7   total_stops      640 non-null    float64\n",
      " 8   additional_info  640 non-null    object \n",
      "dtypes: float64(1), int64(1), object(7)\n",
      "memory usage: 45.1+ KB\n"
     ]
    }
   ],
   "source": [
    "X_train.info()"
   ]
  },
  {
   "cell_type": "markdown",
   "id": "4b5dd6fa",
   "metadata": {},
   "source": [
    "#### Data Preprocessing"
   ]
  },
  {
   "cell_type": "code",
   "execution_count": 16,
   "id": "8437ae34",
   "metadata": {},
   "outputs": [],
   "source": [
    "#numerical columns\n",
    "\n",
    "num_cols = [\"duration\", \"total_stops\"]\n",
    "\n",
    "#datetime columns\n",
    "\n",
    "dt_cols  = [\"date_of_journey\",\"dep_time\",\"arrival_time\"]\n",
    "\n",
    "#categorical columns\n",
    "cat_cols = [col for col in X_train.columns if (col not in dt_cols) and (col not in num_cols)]"
   ]
  },
  {
   "cell_type": "code",
   "execution_count": 20,
   "id": "2f2f7cdf",
   "metadata": {},
   "outputs": [],
   "source": [
    "num_pipe = Pipeline(steps =[\n",
    "    (\"impiter\", SimpleImputer(strategy=\"median\")),\n",
    "    (\"scaler\", StandardScaler())\n",
    "])\n",
    "\n",
    "cat_pipe = Pipeline(steps = [\n",
    "    (\"imputer\", SimpleImputer(strategy= \"most_frequent\")),\n",
    "    (\"encoder\", OneHotEncoder(sparse_output=False))\n",
    "])"
   ]
  },
  {
   "cell_type": "code",
   "execution_count": 21,
   "id": "8353e227",
   "metadata": {},
   "outputs": [],
   "source": [
    "#columns transformer helps to apply a set of operations on the columns\n",
    "\n",
    "preprocessor = ColumnTransformer(transformers= [\n",
    "    (\"num\", num_pipe, num_cols),\n",
    "    (\"cat\", cat_pipe, cat_cols)\n",
    "])"
   ]
  }
 ],
 "metadata": {
  "kernelspec": {
   "display_name": "flask_ml",
   "language": "python",
   "name": "python3"
  },
  "language_info": {
   "codemirror_mode": {
    "name": "ipython",
    "version": 3
   },
   "file_extension": ".py",
   "mimetype": "text/x-python",
   "name": "python",
   "nbconvert_exporter": "python",
   "pygments_lexer": "ipython3",
   "version": "3.11.9"
  }
 },
 "nbformat": 4,
 "nbformat_minor": 5
}
